{
 "cells": [
  {
   "cell_type": "markdown",
   "metadata": {},
   "source": [
    "## NLTK's Implementation of Dr. Weizenbaum's Eliza Chatbot (1966)\n",
    "\n",
    "In Chapter 4 of [*Electronic Literature*,](https://www.amazon.com/Electronic-Literature-Scott-Rettberg-ebook/dp/B07MK58GVV/ref=sr_1_1?crid=OWY5HNJJWQCR&keywords=electronic+literature+scott+rettberg&qid=1636403185&qsid=139-2175654-6671350&sprefix=scott+rettberg+%2Caps%2C388&sr=8-1&sres=1509516786%2C1940425999%2CB06XKNZT1P%2C0817360417%2C8299908930%2CB01C8BR83A%2C0262516691%2CB095WTX9HB%2CB00R1V66SG%2CB0097C41PC%2CB08QYLC3Z5%2CB07NQRM6ML%2CB07TY1RT8J%2CB074B3B22G%2CB01DDX0B2W%2CB0025ASIRK&srpt=ABIS_BOOK) \"Interactive Fiction and Other Gamelike Forms,\" Scott Rettberg mentions Joseph Weizenbaum's Eliza chatbot as a forerunner to IF. Rettberg describes the chatbot as \"a virtual psychologist who was after all only a simple program emulating the talk therapy technique of mirroring, responding to the interactor's input with different linguistic formulations of the same text\" (92). While there are scores of web implentations of Eliza, we'll play with the NLTK Python version (source code available [here ](https://www.nltk.org/_modules/nltk/chat/eliza.html)).\n",
    "\n",
    "Most of you have already installed NLTK and other associated libraries since we used them in the previous notebook on sentiment analysis. But just in case, run the following cells:"
   ]
  },
  {
   "cell_type": "code",
   "execution_count": null,
   "metadata": {},
   "outputs": [],
   "source": [
    "import sys\n",
    "!{sys.executable} -m pip install --user -U nltk"
   ]
  },
  {
   "cell_type": "code",
   "execution_count": null,
   "metadata": {},
   "outputs": [],
   "source": [
    "import nltk\n",
    "nltk.download('punkt')\n",
    "nltk.download('movie_reviews')"
   ]
  },
  {
   "cell_type": "markdown",
   "metadata": {},
   "source": [
    "Now let's import NLTK into our notebook (remember that you always need to use the import command for any Python libraries you want to use, whether that's TextBlob, Markovify, NLTK, or something else):"
   ]
  },
  {
   "cell_type": "code",
   "execution_count": null,
   "metadata": {},
   "outputs": [],
   "source": [
    "import nltk"
   ]
  },
  {
   "cell_type": "markdown",
   "metadata": {},
   "source": [
    "Let's also download all the subsidiary packages associated with NLTK:"
   ]
  },
  {
   "cell_type": "code",
   "execution_count": null,
   "metadata": {},
   "outputs": [],
   "source": [
    "nltk.download('all')"
   ]
  },
  {
   "cell_type": "code",
   "execution_count": null,
   "metadata": {},
   "outputs": [],
   "source": [
    "nltk.chat.eliza.eliza_chat()"
   ]
  },
  {
   "cell_type": "code",
   "execution_count": null,
   "metadata": {},
   "outputs": [],
   "source": []
  }
 ],
 "metadata": {
  "kernelspec": {
   "display_name": "Python 3",
   "language": "python",
   "name": "python3"
  },
  "language_info": {
   "codemirror_mode": {
    "name": "ipython",
    "version": 3
   },
   "file_extension": ".py",
   "mimetype": "text/x-python",
   "name": "python",
   "nbconvert_exporter": "python",
   "pygments_lexer": "ipython3",
   "version": "3.7.6"
  }
 },
 "nbformat": 4,
 "nbformat_minor": 4
}
